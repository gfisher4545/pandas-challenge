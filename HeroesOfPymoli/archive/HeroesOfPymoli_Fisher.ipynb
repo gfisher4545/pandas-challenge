{
 "cells": [
  {
   "cell_type": "markdown",
   "metadata": {},
   "source": [
    "### Note\n",
    "* Instructions have been included for each segment. You do not have to follow them exactly, but they are included to help you think through the steps."
   ]
  },
  {
   "cell_type": "code",
   "execution_count": 5,
   "metadata": {},
   "outputs": [
    {
     "data": {
      "text/html": "<div>\n<style scoped>\n    .dataframe tbody tr th:only-of-type {\n        vertical-align: middle;\n    }\n\n    .dataframe tbody tr th {\n        vertical-align: top;\n    }\n\n    .dataframe thead th {\n        text-align: right;\n    }\n</style>\n<table border=\"1\" class=\"dataframe\">\n  <thead>\n    <tr style=\"text-align: right;\">\n      <th></th>\n      <th>Purchase ID</th>\n      <th>SN</th>\n      <th>Age</th>\n      <th>Gender</th>\n      <th>Item ID</th>\n      <th>Item Name</th>\n      <th>Price</th>\n    </tr>\n  </thead>\n  <tbody>\n    <tr>\n      <td>0</td>\n      <td>0</td>\n      <td>Lisim78</td>\n      <td>20</td>\n      <td>Male</td>\n      <td>108</td>\n      <td>Extraction, Quickblade Of Trembling Hands</td>\n      <td>3.53</td>\n    </tr>\n    <tr>\n      <td>1</td>\n      <td>1</td>\n      <td>Lisovynya38</td>\n      <td>40</td>\n      <td>Male</td>\n      <td>143</td>\n      <td>Frenzied Scimitar</td>\n      <td>1.56</td>\n    </tr>\n    <tr>\n      <td>2</td>\n      <td>2</td>\n      <td>Ithergue48</td>\n      <td>24</td>\n      <td>Male</td>\n      <td>92</td>\n      <td>Final Critic</td>\n      <td>4.88</td>\n    </tr>\n    <tr>\n      <td>3</td>\n      <td>3</td>\n      <td>Chamassasya86</td>\n      <td>24</td>\n      <td>Male</td>\n      <td>100</td>\n      <td>Blindscythe</td>\n      <td>3.27</td>\n    </tr>\n    <tr>\n      <td>4</td>\n      <td>4</td>\n      <td>Iskosia90</td>\n      <td>23</td>\n      <td>Male</td>\n      <td>131</td>\n      <td>Fury</td>\n      <td>1.44</td>\n    </tr>\n    <tr>\n      <td>...</td>\n      <td>...</td>\n      <td>...</td>\n      <td>...</td>\n      <td>...</td>\n      <td>...</td>\n      <td>...</td>\n      <td>...</td>\n    </tr>\n    <tr>\n      <td>775</td>\n      <td>775</td>\n      <td>Aethedru70</td>\n      <td>21</td>\n      <td>Female</td>\n      <td>60</td>\n      <td>Wolf</td>\n      <td>3.54</td>\n    </tr>\n    <tr>\n      <td>776</td>\n      <td>776</td>\n      <td>Iral74</td>\n      <td>21</td>\n      <td>Male</td>\n      <td>164</td>\n      <td>Exiled Doomblade</td>\n      <td>1.63</td>\n    </tr>\n    <tr>\n      <td>777</td>\n      <td>777</td>\n      <td>Yathecal72</td>\n      <td>20</td>\n      <td>Male</td>\n      <td>67</td>\n      <td>Celeste, Incarnation of the Corrupted</td>\n      <td>3.46</td>\n    </tr>\n    <tr>\n      <td>778</td>\n      <td>778</td>\n      <td>Sisur91</td>\n      <td>7</td>\n      <td>Male</td>\n      <td>101</td>\n      <td>Final Critic</td>\n      <td>4.19</td>\n    </tr>\n    <tr>\n      <td>779</td>\n      <td>779</td>\n      <td>Ennrian78</td>\n      <td>24</td>\n      <td>Male</td>\n      <td>50</td>\n      <td>Dawn</td>\n      <td>4.60</td>\n    </tr>\n  </tbody>\n</table>\n<p>780 rows × 7 columns</p>\n</div>",
      "text/plain": "     Purchase ID             SN  Age  Gender  Item ID  \\\n0              0        Lisim78   20    Male      108   \n1              1    Lisovynya38   40    Male      143   \n2              2     Ithergue48   24    Male       92   \n3              3  Chamassasya86   24    Male      100   \n4              4      Iskosia90   23    Male      131   \n..           ...            ...  ...     ...      ...   \n775          775     Aethedru70   21  Female       60   \n776          776         Iral74   21    Male      164   \n777          777     Yathecal72   20    Male       67   \n778          778        Sisur91    7    Male      101   \n779          779      Ennrian78   24    Male       50   \n\n                                     Item Name  Price  \n0    Extraction, Quickblade Of Trembling Hands   3.53  \n1                            Frenzied Scimitar   1.56  \n2                                 Final Critic   4.88  \n3                                  Blindscythe   3.27  \n4                                         Fury   1.44  \n..                                         ...    ...  \n775                                       Wolf   3.54  \n776                           Exiled Doomblade   1.63  \n777      Celeste, Incarnation of the Corrupted   3.46  \n778                               Final Critic   4.19  \n779                                       Dawn   4.60  \n\n[780 rows x 7 columns]"
     },
     "execution_count": 5,
     "metadata": {},
     "output_type": "execute_result"
    }
   ],
   "source": [
    "# Dependencies and Setup\n",
    "import pandas as pd\n",
    "\n",
    "# File to Load (Remember to Change These)\n",
    "file_to_load = \"Resources/purchase_data.csv\"\n",
    "\n",
    "# Read Purchasing File and store into Pandas data frame\n",
    "purchase_data = pd.read_csv(file_to_load)\n",
    "purchase_data.head()\n",
    "purchase_data"
   ]
  },
  {
   "cell_type": "markdown",
   "metadata": {},
   "source": [
    "## Player Count"
   ]
  },
  {
   "cell_type": "markdown",
   "metadata": {},
   "source": [
    "* Display the total number of players\n"
   ]
  },
  {
   "cell_type": "code",
   "execution_count": 6,
   "metadata": {},
   "outputs": [
    {
     "data": {
      "text/plain": "576"
     },
     "execution_count": 6,
     "metadata": {},
     "output_type": "execute_result"
    }
   ],
   "source": [
    "tot_players = len(purchase_data[\"SN\"].unique())\n",
    "tot_players \n"
   ]
  },
  {
   "cell_type": "markdown",
   "metadata": {},
   "source": [
    "## Purchasing Analysis (Total)"
   ]
  },
  {
   "cell_type": "markdown",
   "metadata": {},
   "source": [
    "* Run basic calculations to obtain number of unique items, average price, etc.\n",
    "\n",
    "\n",
    "* Create a summary data frame to hold the results\n",
    "\n",
    "\n",
    "* Optional: give the displayed data cleaner formatting\n",
    "\n",
    "\n",
    "* Display the summary data frame\n"
   ]
  },
  {
   "cell_type": "code",
   "execution_count": 7,
   "metadata": {},
   "outputs": [
    {
     "data": {
      "text/html": "<div>\n<style scoped>\n    .dataframe tbody tr th:only-of-type {\n        vertical-align: middle;\n    }\n\n    .dataframe tbody tr th {\n        vertical-align: top;\n    }\n\n    .dataframe thead th {\n        text-align: right;\n    }\n</style>\n<table border=\"1\" class=\"dataframe\">\n  <thead>\n    <tr style=\"text-align: right;\">\n      <th></th>\n      <th>Number of Unique Items</th>\n      <th>Average Prices</th>\n      <th>Number of Purchases</th>\n      <th>Total Revenue</th>\n    </tr>\n  </thead>\n  <tbody>\n    <tr>\n      <td>0</td>\n      <td>179</td>\n      <td>$3.05</td>\n      <td>780</td>\n      <td>$2,379.77</td>\n    </tr>\n  </tbody>\n</table>\n</div>",
      "text/plain": "   Number of Unique Items Average Prices  Number of Purchases Total Revenue\n0                     179          $3.05                  780     $2,379.77"
     },
     "execution_count": 7,
     "metadata": {},
     "output_type": "execute_result"
    }
   ],
   "source": [
    "unique_df = purchase_data [\"Item Name\"].unique()\n",
    "unique_items = len(unique_df)\n",
    "average_price = \"${:.2f}\".format(purchase_data [\"Price\"].mean())\n",
    "#average_price\n",
    "num_purch = len(purchase_data [\"Purchase ID\"])\n",
    "#num_purch\n",
    "tot_rev = \"${:,.2f}\".format(purchase_data [\"Price\"].sum())\n",
    "#tot_rev\n",
    "purch_df = pd.DataFrame ([\n",
    "    {\"Number of Unique Items\": unique_items, \n",
    "    \"Average Prices\": average_price, \n",
    "    \"Number of Purchases\": num_purch, \n",
    "    \"Total Revenue\": tot_rev}])\n",
    "\n",
    "purch_df"
   ]
  },
  {
   "cell_type": "markdown",
   "metadata": {},
   "source": [
    "## Gender Demographics"
   ]
  },
  {
   "cell_type": "markdown",
   "metadata": {},
   "source": [
    "* Percentage and Count of Male Players\n",
    "\n",
    "\n",
    "* Percentage and Count of Female Players\n",
    "\n",
    "\n",
    "* Percentage and Count of Other / Non-Disclosed\n",
    "\n",
    "\n"
   ]
  },
  {
   "cell_type": "code",
   "execution_count": 8,
   "metadata": {},
   "outputs": [
    {
     "data": {
      "text/html": "<div>\n<style scoped>\n    .dataframe tbody tr th:only-of-type {\n        vertical-align: middle;\n    }\n\n    .dataframe tbody tr th {\n        vertical-align: top;\n    }\n\n    .dataframe thead th {\n        text-align: right;\n    }\n</style>\n<table border=\"1\" class=\"dataframe\">\n  <thead>\n    <tr style=\"text-align: right;\">\n      <th></th>\n      <th>Total Count</th>\n      <th>Percentage of Players</th>\n    </tr>\n  </thead>\n  <tbody>\n    <tr>\n      <td>Male</td>\n      <td>484</td>\n      <td>84.03%</td>\n    </tr>\n    <tr>\n      <td>Female</td>\n      <td>81</td>\n      <td>14.06%</td>\n    </tr>\n    <tr>\n      <td>Other / Non-Disclosed</td>\n      <td>11</td>\n      <td>1.91%</td>\n    </tr>\n  </tbody>\n</table>\n</div>",
      "text/plain": "                       Total Count Percentage of Players\nMale                           484                84.03%\nFemale                          81                14.06%\nOther / Non-Disclosed           11                 1.91%"
     },
     "execution_count": 8,
     "metadata": {},
     "output_type": "execute_result"
    }
   ],
   "source": [
    "\n",
    "sn_df = purchase_data.drop_duplicates(\"SN\")\n",
    "total_unique_df = sn_df[\"Gender\"].value_counts()\n",
    "percent = total_unique_df / tot_players\n",
    "percent = percent.astype(float).map(\"{:.2%}\".format)\n",
    "gender_final = pd.DataFrame (\n",
    "    {\"Total Count\": total_unique_df, \n",
    "    \"Percentage of Players\": percent, \n",
    "    })\n",
    "    \n",
    "gender_final"
   ]
  },
  {
   "cell_type": "markdown",
   "metadata": {},
   "source": [
    "\n",
    "## Purchasing Analysis (Gender)"
   ]
  },
  {
   "cell_type": "markdown",
   "metadata": {},
   "source": [
    "* Run basic calculations to obtain purchase count, avg. purchase price, avg. purchase total per person etc. by gender\n",
    "\n",
    "\n",
    "\n",
    "\n",
    "* Create a summary data frame to hold the results\n",
    "\n",
    "\n",
    "* Optional: give the displayed data cleaner formatting\n",
    "\n",
    "\n",
    "* Display the summary data frame"
   ]
  },
  {
   "cell_type": "code",
   "execution_count": 9,
   "metadata": {},
   "outputs": [
    {
     "data": {
      "text/html": "<div>\n<style scoped>\n    .dataframe tbody tr th:only-of-type {\n        vertical-align: middle;\n    }\n\n    .dataframe tbody tr th {\n        vertical-align: top;\n    }\n\n    .dataframe thead th {\n        text-align: right;\n    }\n</style>\n<table border=\"1\" class=\"dataframe\">\n  <thead>\n    <tr style=\"text-align: right;\">\n      <th></th>\n      <th>Purchase Count</th>\n      <th>Average Purchase Price</th>\n      <th>Total Purchase Value</th>\n      <th>Avg Total Purchase Per Person</th>\n    </tr>\n    <tr>\n      <th>Gender</th>\n      <th></th>\n      <th></th>\n      <th></th>\n      <th></th>\n    </tr>\n  </thead>\n  <tbody>\n    <tr>\n      <td>Female</td>\n      <td>113</td>\n      <td>$3.20</td>\n      <td>$361.94</td>\n      <td>$4.47</td>\n    </tr>\n    <tr>\n      <td>Male</td>\n      <td>652</td>\n      <td>$3.02</td>\n      <td>$1,967.64</td>\n      <td>$4.07</td>\n    </tr>\n    <tr>\n      <td>Other / Non-Disclosed</td>\n      <td>15</td>\n      <td>$3.35</td>\n      <td>$50.19</td>\n      <td>$4.56</td>\n    </tr>\n  </tbody>\n</table>\n</div>",
      "text/plain": "                       Purchase Count Average Purchase Price  \\\nGender                                                         \nFemale                            113                  $3.20   \nMale                              652                  $3.02   \nOther / Non-Disclosed              15                  $3.35   \n\n                      Total Purchase Value Avg Total Purchase Per Person  \nGender                                                                    \nFemale                             $361.94                         $4.47  \nMale                             $1,967.64                         $4.07  \nOther / Non-Disclosed               $50.19                         $4.56  "
     },
     "execution_count": 9,
     "metadata": {},
     "output_type": "execute_result"
    }
   ],
   "source": [
    "gender_group = purchase_data.groupby([\"Gender\"])\n",
    "purch_count = (gender_group[\"SN\"].count())\n",
    "\n",
    "total_pv = gender_group[\"Price\"].sum()\n",
    "\n",
    "avg_pp = total_pv / purch_count\n",
    "avg_pp = avg_pp.astype(float).map(\"${:,.2f}\".format)\n",
    "purhcase_pp = total_pv / total_unique_df\n",
    "purhcase_pp = purhcase_pp.astype(float).map(\"${:,.2f}\".format)\n",
    "total_pv = total_pv.astype(float).map(\"${:,.2f}\".format)\n",
    "\n",
    "gender_pricing = pd.DataFrame (\n",
    "    {\"Purchase Count\": purch_count, \n",
    "    \"Average Purchase Price\": avg_pp,\n",
    "    \"Total Purchase Value\" : total_pv,\n",
    "    \"Avg Total Purchase Per Person\": purhcase_pp}\n",
    "    )\n",
    "#tot_rev = \"${:,.2f}\".format(purchase_data [\"Price\"].sum())\n",
    "gender_pricing"
   ]
  },
  {
   "cell_type": "markdown",
   "metadata": {},
   "source": [
    "## Age Demographics"
   ]
  },
  {
   "cell_type": "markdown",
   "metadata": {},
   "source": [
    "* Establish bins for ages\n",
    "\n",
    "\n",
    "* Categorize the existing players using the age bins. Hint: use pd.cut()\n",
    "\n",
    "\n",
    "* Calculate the numbers and percentages by age group\n",
    "\n",
    "\n",
    "* Create a summary data frame to hold the results\n",
    "\n",
    "\n",
    "* Optional: round the percentage column to two decimal points\n",
    "\n",
    "\n",
    "* Display Age Demographics Table\n"
   ]
  },
  {
   "cell_type": "code",
   "execution_count": 10,
   "metadata": {},
   "outputs": [
    {
     "data": {
      "text/html": "<div>\n<style scoped>\n    .dataframe tbody tr th:only-of-type {\n        vertical-align: middle;\n    }\n\n    .dataframe tbody tr th {\n        vertical-align: top;\n    }\n\n    .dataframe thead th {\n        text-align: right;\n    }\n</style>\n<table border=\"1\" class=\"dataframe\">\n  <thead>\n    <tr style=\"text-align: right;\">\n      <th></th>\n      <th>Total Count</th>\n      <th>Percentage of Players</th>\n    </tr>\n    <tr>\n      <th>Age Group</th>\n      <th></th>\n      <th></th>\n    </tr>\n  </thead>\n  <tbody>\n    <tr>\n      <td>&lt;10</td>\n      <td>24</td>\n      <td>4.17%</td>\n    </tr>\n    <tr>\n      <td>10-14</td>\n      <td>15</td>\n      <td>2.60%</td>\n    </tr>\n    <tr>\n      <td>15-19</td>\n      <td>107</td>\n      <td>18.58%</td>\n    </tr>\n    <tr>\n      <td>20-24</td>\n      <td>258</td>\n      <td>44.79%</td>\n    </tr>\n    <tr>\n      <td>25-29</td>\n      <td>77</td>\n      <td>13.37%</td>\n    </tr>\n    <tr>\n      <td>30-34</td>\n      <td>52</td>\n      <td>9.03%</td>\n    </tr>\n    <tr>\n      <td>35-39</td>\n      <td>31</td>\n      <td>5.38%</td>\n    </tr>\n    <tr>\n      <td>40+</td>\n      <td>12</td>\n      <td>2.08%</td>\n    </tr>\n  </tbody>\n</table>\n</div>",
      "text/plain": "           Total Count Percentage of Players\nAge Group                                   \n<10                 24                 4.17%\n10-14               15                 2.60%\n15-19              107                18.58%\n20-24              258                44.79%\n25-29               77                13.37%\n30-34               52                 9.03%\n35-39               31                 5.38%\n40+                 12                 2.08%"
     },
     "execution_count": 10,
     "metadata": {},
     "output_type": "execute_result"
    }
   ],
   "source": [
    "\n",
    "age_bin = [0, 10, 14, 19, 24, 29, 34, 39, 1000]\n",
    "\n",
    "age_list = [\"<10\" ,\"10-14\", \"15-19\", \"20-24\", \"25-29\", \"30-34\", \"35-39\", \"40+\"]\n",
    "sn_df [\"Age Group\"] = pd.cut (sn_df[\"Age\"],age_bin, labels = age_list)\n",
    "age_df = sn_df.groupby(\"Age Group\")\n",
    "age_count = age_df[\"Age\"].count()\n",
    "age_percent = age_count / tot_players\n",
    "age_percent = age_percent.astype(float).map(\"{:.2%}\".format)\n",
    "age_counter_df = pd.DataFrame (\n",
    "    {\"Total Count\": age_count, \n",
    "    \"Percentage of Players\": age_percent,\n",
    "    }\n",
    "    )\n",
    "age_counter_df"
   ]
  },
  {
   "cell_type": "markdown",
   "metadata": {},
   "source": [
    "## Purchasing Analysis (Age)"
   ]
  },
  {
   "cell_type": "markdown",
   "metadata": {},
   "source": [
    "* Bin the purchase_data data frame by age\n",
    "\n",
    "\n",
    "* Run basic calculations to obtain purchase count, avg. purchase price, avg. purchase total per person etc. in the table below\n",
    "\n",
    "\n",
    "* Create a summary data frame to hold the results\n",
    "\n",
    "\n",
    "* Optional: give the displayed data cleaner formatting\n",
    "\n",
    "\n",
    "* Display the summary data frame"
   ]
  },
  {
   "cell_type": "code",
   "execution_count": 11,
   "metadata": {},
   "outputs": [
    {
     "data": {
      "text/html": "<div>\n<style scoped>\n    .dataframe tbody tr th:only-of-type {\n        vertical-align: middle;\n    }\n\n    .dataframe tbody tr th {\n        vertical-align: top;\n    }\n\n    .dataframe thead th {\n        text-align: right;\n    }\n</style>\n<table border=\"1\" class=\"dataframe\">\n  <thead>\n    <tr style=\"text-align: right;\">\n      <th></th>\n      <th>Purchase Count</th>\n      <th>Average Purchase Price</th>\n      <th>Total Purchase Value</th>\n      <th>Avg Total Purchase Per Person</th>\n    </tr>\n    <tr>\n      <th>Age Group</th>\n      <th></th>\n      <th></th>\n      <th></th>\n      <th></th>\n    </tr>\n  </thead>\n  <tbody>\n    <tr>\n      <td>&lt;10</td>\n      <td>24</td>\n      <td>$3.40</td>\n      <td>$108.96</td>\n      <td>$4.54</td>\n    </tr>\n    <tr>\n      <td>10-14</td>\n      <td>15</td>\n      <td>$2.68</td>\n      <td>$50.95</td>\n      <td>$3.40</td>\n    </tr>\n    <tr>\n      <td>15-19</td>\n      <td>107</td>\n      <td>$3.04</td>\n      <td>$412.89</td>\n      <td>$3.86</td>\n    </tr>\n    <tr>\n      <td>20-24</td>\n      <td>258</td>\n      <td>$3.05</td>\n      <td>$1,114.06</td>\n      <td>$4.32</td>\n    </tr>\n    <tr>\n      <td>25-29</td>\n      <td>77</td>\n      <td>$2.90</td>\n      <td>$293.00</td>\n      <td>$3.81</td>\n    </tr>\n    <tr>\n      <td>30-34</td>\n      <td>52</td>\n      <td>$2.93</td>\n      <td>$214.00</td>\n      <td>$4.12</td>\n    </tr>\n    <tr>\n      <td>35-39</td>\n      <td>31</td>\n      <td>$3.60</td>\n      <td>$147.67</td>\n      <td>$4.76</td>\n    </tr>\n    <tr>\n      <td>40+</td>\n      <td>12</td>\n      <td>$2.94</td>\n      <td>$38.24</td>\n      <td>$3.19</td>\n    </tr>\n  </tbody>\n</table>\n</div>",
      "text/plain": "           Purchase Count Average Purchase Price Total Purchase Value  \\\nAge Group                                                               \n<10                    24                  $3.40              $108.96   \n10-14                  15                  $2.68               $50.95   \n15-19                 107                  $3.04              $412.89   \n20-24                 258                  $3.05            $1,114.06   \n25-29                  77                  $2.90              $293.00   \n30-34                  52                  $2.93              $214.00   \n35-39                  31                  $3.60              $147.67   \n40+                    12                  $2.94               $38.24   \n\n          Avg Total Purchase Per Person  \nAge Group                                \n<10                               $4.54  \n10-14                             $3.40  \n15-19                             $3.86  \n20-24                             $4.32  \n25-29                             $3.81  \n30-34                             $4.12  \n35-39                             $4.76  \n40+                               $3.19  "
     },
     "execution_count": 11,
     "metadata": {},
     "output_type": "execute_result"
    }
   ],
   "source": [
    "\n",
    "purchase_data [\"Age Group\"] = pd.cut (purchase_data[\"Age\"],age_bin, labels = age_list)\n",
    "age_df_total = purchase_data.groupby(\"Age Group\")\n",
    "\n",
    "age_total_purch = age_df_total[\"Price\"].sum()\n",
    "avg_pp2 = age_df_total[\"Price\"].mean()\n",
    "purhcase_pp2 = age_total_purch / age_count\n",
    "\n",
    "age_total_purch = age_total_purch.astype(float).map(\"${:,.2f}\".format)\n",
    "avg_pp2 = avg_pp2.astype(float).map(\"${:,.2f}\".format)\n",
    "purhcase_pp2 = purhcase_pp2.astype(float).map(\"${:,.2f}\".format)\n",
    "\n",
    "age_purchase_df = pd.DataFrame (\n",
    "    {\"Purchase Count\": age_count, \n",
    "    \"Average Purchase Price\": avg_pp2,\n",
    "    \"Total Purchase Value\" : age_total_purch,\n",
    "    \"Avg Total Purchase Per Person\": purhcase_pp2,\n",
    "    }\n",
    "    )\n",
    "age_purchase_df"
   ]
  },
  {
   "cell_type": "markdown",
   "metadata": {},
   "source": [
    "## Top Spenders"
   ]
  },
  {
   "cell_type": "markdown",
   "metadata": {},
   "source": [
    "* Run basic calculations to obtain the results in the table below\n",
    "\n",
    "\n",
    "* Create a summary data frame to hold the results\n",
    "\n",
    "\n",
    "* Sort the total purchase value column in descending order\n",
    "\n",
    "\n",
    "* Optional: give the displayed data cleaner formatting\n",
    "\n",
    "\n",
    "* Display a preview of the summary data frame\n",
    "\n"
   ]
  },
  {
   "cell_type": "code",
   "execution_count": 15,
   "metadata": {},
   "outputs": [
    {
     "data": {
      "text/html": "<div>\n<style scoped>\n    .dataframe tbody tr th:only-of-type {\n        vertical-align: middle;\n    }\n\n    .dataframe tbody tr th {\n        vertical-align: top;\n    }\n\n    .dataframe thead th {\n        text-align: right;\n    }\n</style>\n<table border=\"1\" class=\"dataframe\">\n  <thead>\n    <tr style=\"text-align: right;\">\n      <th></th>\n      <th>Purchase Count</th>\n      <th>Average Purchase Price</th>\n      <th>Total Purchase Value</th>\n    </tr>\n    <tr>\n      <th>SN</th>\n      <th></th>\n      <th></th>\n      <th></th>\n    </tr>\n  </thead>\n  <tbody>\n    <tr>\n      <td>Lisosia93</td>\n      <td>5</td>\n      <td>3.792000</td>\n      <td>18.96</td>\n    </tr>\n    <tr>\n      <td>Idastidru52</td>\n      <td>4</td>\n      <td>3.862500</td>\n      <td>15.45</td>\n    </tr>\n    <tr>\n      <td>Chamjask73</td>\n      <td>3</td>\n      <td>4.610000</td>\n      <td>13.83</td>\n    </tr>\n    <tr>\n      <td>Iral74</td>\n      <td>4</td>\n      <td>3.405000</td>\n      <td>13.62</td>\n    </tr>\n    <tr>\n      <td>Iskadarya95</td>\n      <td>3</td>\n      <td>4.366667</td>\n      <td>13.10</td>\n    </tr>\n  </tbody>\n</table>\n</div>",
      "text/plain": "             Purchase Count  Average Purchase Price  Total Purchase Value\nSN                                                                       \nLisosia93                 5                3.792000                 18.96\nIdastidru52               4                3.862500                 15.45\nChamjask73                3                4.610000                 13.83\nIral74                    4                3.405000                 13.62\nIskadarya95               3                4.366667                 13.10"
     },
     "execution_count": 15,
     "metadata": {},
     "output_type": "execute_result"
    }
   ],
   "source": [
    "sngroup_df_total = purchase_data.groupby(\"SN\")\n",
    "purchase_count_sn = sngroup_df_total[\"SN\"].count()\n",
    "total_purchase_sn = sngroup_df_total[\"Price\"].sum()\n",
    "avg_purchase_sn = sngroup_df_total[\"Price\"].mean()\n",
    "\n",
    "\n",
    "total_purchase_sn = total_purchase_sn.astype(float)\n",
    "avg_purchase_sn = avg_purchase_sn.astype(float)\n",
    "\n",
    "sn_purchase_df = pd.DataFrame (\n",
    "    {\"Purchase Count\": purchase_count_sn, \n",
    "    \"Average Purchase Price\": avg_purchase_sn,\n",
    "    \"Total Purchase Value\" : total_purchase_sn,\n",
    "    }\n",
    "    )\n",
    "sn_purchase_df_sorted = sn_purchase_df.sort_values(by = \"Total Purchase Value\", ascending = False)\n",
    "total_purchase_sn = total_purchase_sn.map(\"${:,.2f}\".format)\n",
    "avg_purchase_sn = avg_purchase_sn.map(\"${:,.2f}\".format)    \n",
    "sn_purchase_df_sorted.head()"
   ]
  },
  {
   "cell_type": "markdown",
   "metadata": {},
   "source": [
    "## Most Popular Items"
   ]
  },
  {
   "cell_type": "markdown",
   "metadata": {},
   "source": [
    "* Retrieve the Item ID, Item Name, and Item Price columns\n",
    "\n",
    "\n",
    "* Group by Item ID and Item Name. Perform calculations to obtain purchase count, item price, and total purchase value\n",
    "\n",
    "\n",
    "* Create a summary data frame to hold the results\n",
    "\n",
    "\n",
    "* Sort the purchase count column in descending order\n",
    "\n",
    "\n",
    "* Optional: give the displayed data cleaner formatting\n",
    "\n",
    "\n",
    "* Display a preview of the summary data frame\n",
    "\n"
   ]
  },
  {
   "cell_type": "code",
   "execution_count": 16,
   "metadata": {},
   "outputs": [
    {
     "data": {
      "text/html": "<div>\n<style scoped>\n    .dataframe tbody tr th:only-of-type {\n        vertical-align: middle;\n    }\n\n    .dataframe tbody tr th {\n        vertical-align: top;\n    }\n\n    .dataframe thead th {\n        text-align: right;\n    }\n</style>\n<table border=\"1\" class=\"dataframe\">\n  <thead>\n    <tr style=\"text-align: right;\">\n      <th></th>\n      <th></th>\n      <th>Purchase Count</th>\n      <th>Item Price</th>\n      <th>Total Purchase Value</th>\n    </tr>\n    <tr>\n      <th>Item ID</th>\n      <th>Item Name</th>\n      <th></th>\n      <th></th>\n      <th></th>\n    </tr>\n  </thead>\n  <tbody>\n    <tr>\n      <td>178</td>\n      <td>Oathbreaker, Last Hope of the Breaking Storm</td>\n      <td>12</td>\n      <td>4.23</td>\n      <td>50.76</td>\n    </tr>\n    <tr>\n      <td>145</td>\n      <td>Fiery Glass Crusader</td>\n      <td>9</td>\n      <td>4.58</td>\n      <td>41.22</td>\n    </tr>\n    <tr>\n      <td>108</td>\n      <td>Extraction, Quickblade Of Trembling Hands</td>\n      <td>9</td>\n      <td>3.53</td>\n      <td>31.77</td>\n    </tr>\n    <tr>\n      <td>82</td>\n      <td>Nirvana</td>\n      <td>9</td>\n      <td>4.90</td>\n      <td>44.10</td>\n    </tr>\n    <tr>\n      <td>19</td>\n      <td>Pursuit, Cudgel of Necromancy</td>\n      <td>8</td>\n      <td>1.02</td>\n      <td>8.16</td>\n    </tr>\n  </tbody>\n</table>\n</div>",
      "text/plain": "                                                      Purchase Count  \\\nItem ID Item Name                                                      \n178     Oathbreaker, Last Hope of the Breaking Storm              12   \n145     Fiery Glass Crusader                                       9   \n108     Extraction, Quickblade Of Trembling Hands                  9   \n82      Nirvana                                                    9   \n19      Pursuit, Cudgel of Necromancy                              8   \n\n                                                      Item Price  \\\nItem ID Item Name                                                  \n178     Oathbreaker, Last Hope of the Breaking Storm        4.23   \n145     Fiery Glass Crusader                                4.58   \n108     Extraction, Quickblade Of Trembling Hands           3.53   \n82      Nirvana                                             4.90   \n19      Pursuit, Cudgel of Necromancy                       1.02   \n\n                                                      Total Purchase Value  \nItem ID Item Name                                                           \n178     Oathbreaker, Last Hope of the Breaking Storm                 50.76  \n145     Fiery Glass Crusader                                         41.22  \n108     Extraction, Quickblade Of Trembling Hands                    31.77  \n82      Nirvana                                                      44.10  \n19      Pursuit, Cudgel of Necromancy                                 8.16  "
     },
     "execution_count": 16,
     "metadata": {},
     "output_type": "execute_result"
    }
   ],
   "source": [
    "item_df_total = purchase_data.groupby([\"Item ID\", \"Item Name\"])\n",
    "\n",
    "purchase_count_item = item_df_total[\"Item ID\"].count()\n",
    "\n",
    "avg_purchase_item = item_df_total[\"Price\"].mean()\n",
    "total_purchase_item = purchase_count_item * avg_purchase_item\n",
    "\n",
    "avg_purchase_item = avg_purchase_item.astype(float)\n",
    "total_purchase_item = total_purchase_item.astype(float)\n",
    "#total_purchase_item = total_purchase_item.astype('int64')\n",
    "item_purchase_df = pd.DataFrame (\n",
    "    {\"Purchase Count\": purchase_count_item, \n",
    "    \"Item Price\": avg_purchase_item,\n",
    "    \"Total Purchase Value\" : total_purchase_item,\n",
    "    }\n",
    "    )\n",
    "item_purchase_df_sorted = item_purchase_df.sort_values(by = \"Purchase Count\", ascending = False) \n",
    "avg_purchase_item = avg_purchase_item.map(\"${:,.2f}\".format)\n",
    "total_purchase_item = total_purchase_item.map(\"${:,.2f}\".format)\n",
    "item_purchase_df_sorted.head()\n",
    "\n"
   ]
  },
  {
   "cell_type": "markdown",
   "metadata": {},
   "source": [
    "## Most Profitable Items"
   ]
  },
  {
   "cell_type": "markdown",
   "metadata": {},
   "source": [
    "* Sort the above table by total purchase value in descending order\n",
    "\n",
    "\n",
    "* Optional: give the displayed data cleaner formatting\n",
    "\n",
    "\n",
    "* Display a preview of the data frame\n",
    "\n"
   ]
  },
  {
   "cell_type": "code",
   "execution_count": 17,
   "metadata": {},
   "outputs": [
    {
     "data": {
      "text/html": "<div>\n<style scoped>\n    .dataframe tbody tr th:only-of-type {\n        vertical-align: middle;\n    }\n\n    .dataframe tbody tr th {\n        vertical-align: top;\n    }\n\n    .dataframe thead th {\n        text-align: right;\n    }\n</style>\n<table border=\"1\" class=\"dataframe\">\n  <thead>\n    <tr style=\"text-align: right;\">\n      <th></th>\n      <th></th>\n      <th>Purchase Count</th>\n      <th>Item Price</th>\n      <th>Total Purchase Value</th>\n    </tr>\n    <tr>\n      <th>Item ID</th>\n      <th>Item Name</th>\n      <th></th>\n      <th></th>\n      <th></th>\n    </tr>\n  </thead>\n  <tbody>\n    <tr>\n      <td>178</td>\n      <td>Oathbreaker, Last Hope of the Breaking Storm</td>\n      <td>12</td>\n      <td>4.23</td>\n      <td>50.76</td>\n    </tr>\n    <tr>\n      <td>82</td>\n      <td>Nirvana</td>\n      <td>9</td>\n      <td>4.90</td>\n      <td>44.10</td>\n    </tr>\n    <tr>\n      <td>145</td>\n      <td>Fiery Glass Crusader</td>\n      <td>9</td>\n      <td>4.58</td>\n      <td>41.22</td>\n    </tr>\n    <tr>\n      <td>92</td>\n      <td>Final Critic</td>\n      <td>8</td>\n      <td>4.88</td>\n      <td>39.04</td>\n    </tr>\n    <tr>\n      <td>103</td>\n      <td>Singed Scalpel</td>\n      <td>8</td>\n      <td>4.35</td>\n      <td>34.80</td>\n    </tr>\n  </tbody>\n</table>\n</div>",
      "text/plain": "                                                      Purchase Count  \\\nItem ID Item Name                                                      \n178     Oathbreaker, Last Hope of the Breaking Storm              12   \n82      Nirvana                                                    9   \n145     Fiery Glass Crusader                                       9   \n92      Final Critic                                               8   \n103     Singed Scalpel                                             8   \n\n                                                      Item Price  \\\nItem ID Item Name                                                  \n178     Oathbreaker, Last Hope of the Breaking Storm        4.23   \n82      Nirvana                                             4.90   \n145     Fiery Glass Crusader                                4.58   \n92      Final Critic                                        4.88   \n103     Singed Scalpel                                      4.35   \n\n                                                      Total Purchase Value  \nItem ID Item Name                                                           \n178     Oathbreaker, Last Hope of the Breaking Storm                 50.76  \n82      Nirvana                                                      44.10  \n145     Fiery Glass Crusader                                         41.22  \n92      Final Critic                                                 39.04  \n103     Singed Scalpel                                               34.80  "
     },
     "execution_count": 17,
     "metadata": {},
     "output_type": "execute_result"
    }
   ],
   "source": [
    "\n",
    "item_purchase_df_sorted_2 = item_purchase_df.sort_values(by = \"Total Purchase Value\", ascending = False) \n",
    "\n",
    "item_purchase_df_sorted_2.head()"
   ]
  },
  {
   "cell_type": "code",
   "execution_count": null,
   "metadata": {},
   "outputs": [],
   "source": []
  }
 ],
 "metadata": {
  "anaconda-cloud": {},
  "kernel_info": {
   "name": "python3"
  },
  "kernelspec": {
   "display_name": "Python 3",
   "language": "python",
   "name": "python3"
  },
  "language_info": {
   "codemirror_mode": {
    "name": "ipython",
    "version": 3
   },
   "file_extension": ".py",
   "mimetype": "text/x-python",
   "name": "python",
   "nbconvert_exporter": "python",
   "pygments_lexer": "ipython3",
   "version": "3.6.10-final"
  },
  "latex_envs": {
   "LaTeX_envs_menu_present": true,
   "autoclose": false,
   "autocomplete": true,
   "bibliofile": "biblio.bib",
   "cite_by": "apalike",
   "current_citInitial": 1,
   "eqLabelWithNumbers": true,
   "eqNumInitial": 1,
   "hotkeys": {
    "equation": "Ctrl-E",
    "itemize": "Ctrl-I"
   },
   "labels_anchors": false,
   "latex_user_defs": false,
   "report_style_numbering": false,
   "user_envs_cfg": false
  },
  "nteract": {
   "version": "0.2.0"
  }
 },
 "nbformat": 4,
 "nbformat_minor": 2
}